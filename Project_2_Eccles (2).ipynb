{
 "cells": [
  {
   "cell_type": "markdown",
   "id": "abafb9d5",
   "metadata": {},
   "source": [
    "# DSCI 303 – Project 02\n",
    "### Adam Eccles"
   ]
  },
  {
   "cell_type": "markdown",
   "id": "a8e0edf7",
   "metadata": {},
   "source": [
    "# Introduction\n",
    "\n",
    "In this project we will be using the \"Pandas\" library to allow us to import data in a dataframe object. "
   ]
  },
  {
   "cell_type": "code",
   "execution_count": 1,
   "id": "bd4f2d16",
   "metadata": {
    "scrolled": true
   },
   "outputs": [
    {
     "data": {
      "text/html": [
       "<div>\n",
       "<style scoped>\n",
       "    .dataframe tbody tr th:only-of-type {\n",
       "        vertical-align: middle;\n",
       "    }\n",
       "\n",
       "    .dataframe tbody tr th {\n",
       "        vertical-align: top;\n",
       "    }\n",
       "\n",
       "    .dataframe thead th {\n",
       "        text-align: right;\n",
       "    }\n",
       "</style>\n",
       "<table border=\"1\" class=\"dataframe\">\n",
       "  <thead>\n",
       "    <tr style=\"text-align: right;\">\n",
       "      <th></th>\n",
       "      <th>country</th>\n",
       "      <th>year</th>\n",
       "      <th>continent</th>\n",
       "      <th>population</th>\n",
       "      <th>life_exp</th>\n",
       "      <th>gdp_per_cap</th>\n",
       "      <th>gini</th>\n",
       "    </tr>\n",
       "  </thead>\n",
       "  <tbody>\n",
       "    <tr>\n",
       "      <th>0</th>\n",
       "      <td>Afghanistan</td>\n",
       "      <td>1800</td>\n",
       "      <td>asia</td>\n",
       "      <td>3280000</td>\n",
       "      <td>28.2</td>\n",
       "      <td>603</td>\n",
       "      <td>30.5</td>\n",
       "    </tr>\n",
       "    <tr>\n",
       "      <th>1</th>\n",
       "      <td>Albania</td>\n",
       "      <td>1800</td>\n",
       "      <td>europe</td>\n",
       "      <td>410000</td>\n",
       "      <td>35.4</td>\n",
       "      <td>667</td>\n",
       "      <td>38.9</td>\n",
       "    </tr>\n",
       "    <tr>\n",
       "      <th>2</th>\n",
       "      <td>Algeria</td>\n",
       "      <td>1800</td>\n",
       "      <td>africa</td>\n",
       "      <td>2500000</td>\n",
       "      <td>28.8</td>\n",
       "      <td>715</td>\n",
       "      <td>56.2</td>\n",
       "    </tr>\n",
       "    <tr>\n",
       "      <th>3</th>\n",
       "      <td>Angola</td>\n",
       "      <td>1800</td>\n",
       "      <td>africa</td>\n",
       "      <td>1570000</td>\n",
       "      <td>27.0</td>\n",
       "      <td>618</td>\n",
       "      <td>57.2</td>\n",
       "    </tr>\n",
       "    <tr>\n",
       "      <th>4</th>\n",
       "      <td>Antigua and Barbuda</td>\n",
       "      <td>1800</td>\n",
       "      <td>americas</td>\n",
       "      <td>37000</td>\n",
       "      <td>33.5</td>\n",
       "      <td>757</td>\n",
       "      <td>40.0</td>\n",
       "    </tr>\n",
       "    <tr>\n",
       "      <th>5</th>\n",
       "      <td>Argentina</td>\n",
       "      <td>1800</td>\n",
       "      <td>americas</td>\n",
       "      <td>534000</td>\n",
       "      <td>33.2</td>\n",
       "      <td>1510</td>\n",
       "      <td>47.7</td>\n",
       "    </tr>\n",
       "    <tr>\n",
       "      <th>6</th>\n",
       "      <td>Armenia</td>\n",
       "      <td>1800</td>\n",
       "      <td>europe</td>\n",
       "      <td>413000</td>\n",
       "      <td>34.0</td>\n",
       "      <td>514</td>\n",
       "      <td>31.5</td>\n",
       "    </tr>\n",
       "    <tr>\n",
       "      <th>7</th>\n",
       "      <td>Australia</td>\n",
       "      <td>1800</td>\n",
       "      <td>asia</td>\n",
       "      <td>351000</td>\n",
       "      <td>34.0</td>\n",
       "      <td>814</td>\n",
       "      <td>38.7</td>\n",
       "    </tr>\n",
       "    <tr>\n",
       "      <th>8</th>\n",
       "      <td>Austria</td>\n",
       "      <td>1800</td>\n",
       "      <td>europe</td>\n",
       "      <td>3210000</td>\n",
       "      <td>34.4</td>\n",
       "      <td>1850</td>\n",
       "      <td>33.4</td>\n",
       "    </tr>\n",
       "    <tr>\n",
       "      <th>9</th>\n",
       "      <td>Azerbaijan</td>\n",
       "      <td>1800</td>\n",
       "      <td>europe</td>\n",
       "      <td>880000</td>\n",
       "      <td>29.2</td>\n",
       "      <td>775</td>\n",
       "      <td>70.5</td>\n",
       "    </tr>\n",
       "  </tbody>\n",
       "</table>\n",
       "</div>"
      ],
      "text/plain": [
       "               country  year continent  population  life_exp  gdp_per_cap  \\\n",
       "0          Afghanistan  1800      asia     3280000      28.2          603   \n",
       "1              Albania  1800    europe      410000      35.4          667   \n",
       "2              Algeria  1800    africa     2500000      28.8          715   \n",
       "3               Angola  1800    africa     1570000      27.0          618   \n",
       "4  Antigua and Barbuda  1800  americas       37000      33.5          757   \n",
       "5            Argentina  1800  americas      534000      33.2         1510   \n",
       "6              Armenia  1800    europe      413000      34.0          514   \n",
       "7            Australia  1800      asia      351000      34.0          814   \n",
       "8              Austria  1800    europe     3210000      34.4         1850   \n",
       "9           Azerbaijan  1800    europe      880000      29.2          775   \n",
       "\n",
       "   gini  \n",
       "0  30.5  \n",
       "1  38.9  \n",
       "2  56.2  \n",
       "3  57.2  \n",
       "4  40.0  \n",
       "5  47.7  \n",
       "6  31.5  \n",
       "7  38.7  \n",
       "8  33.4  \n",
       "9  70.5  "
      ]
     },
     "execution_count": 1,
     "metadata": {},
     "output_type": "execute_result"
    }
   ],
   "source": [
    "import pandas as pd\n",
    "df = pd.read_csv('gapminder_data.txt', sep='\\t')\n",
    "df.head(10)"
   ]
  },
  {
   "cell_type": "code",
   "execution_count": 2,
   "id": "e4352f2e",
   "metadata": {},
   "outputs": [],
   "source": [
    "country = df.country.to_list()\n",
    "continent = df.continent.to_list()\n",
    "year = df.year.to_list()\n",
    "population = df.population.to_list()\n",
    "life_exp = df.life_exp.to_list()\n",
    "pcgdp = df.gdp_per_cap.to_list()\n",
    "gini = df.gini.to_list()"
   ]
  },
  {
   "cell_type": "code",
   "execution_count": 3,
   "id": "b3b5594b",
   "metadata": {},
   "outputs": [
    {
     "name": "stdout",
     "output_type": "stream",
     "text": [
      "Country:  Colombia\n",
      "Continent:  americas\n",
      "Year:  1830\n",
      "Population:  1450000\n",
      "Life Expectancy:  32.0\n",
      "Per Capita GDP:  990\n",
      "Gini Index:  59.1\n"
     ]
    }
   ],
   "source": [
    "N = 5555\n",
    "print('Country: ', country[N])\n",
    "print('Continent: ', continent[N])\n",
    "print('Year: ', year[N])\n",
    "print('Population: ', population[N])\n",
    "print('Life Expectancy: ', life_exp[N])\n",
    "print('Per Capita GDP: ', pcgdp[N])\n",
    "print('Gini Index: ', gini[N])"
   ]
  },
  {
   "cell_type": "markdown",
   "id": "899a9c22",
   "metadata": {},
   "source": [
    "# Part 1: Displaying Past 20 Years of US Data"
   ]
  },
  {
   "cell_type": "code",
   "execution_count": 4,
   "id": "bbac4bbc",
   "metadata": {},
   "outputs": [
    {
     "name": "stdout",
     "output_type": "stream",
     "text": [
      "Year    Country         Population    LExp    pcGDP    Gini\n",
      "-----------------------------------------------------------\n",
      "1999    United States    279000000    76.8    44700    40.5\n",
      "2000    United States    282000000    76.9    46000    40.5\n",
      "2001    United States    285000000    77.0    46000    40.5\n",
      "2002    United States    288000000    77.1    46400    40.5\n",
      "2003    United States    290000000    77.3    47300    40.5\n",
      "2004    United States    293000000    77.5    48600    40.6\n",
      "2005    United States    295000000    77.7    49800    40.7\n",
      "2006    United States    298000000    77.9    50600    40.8\n",
      "2007    United States    301000000    78.1    51000    40.8\n",
      "2008    United States    303000000    78.3    50400    40.8\n",
      "2009    United States    306000000    78.6    48600    40.7\n",
      "2010    United States    309000000    78.7    49400    40.7\n",
      "2011    United States    311000000    78.8    49800    40.7\n",
      "2012    United States    313000000    78.9    50500    40.8\n",
      "2013    United States    316000000    78.9    51000    41.0\n",
      "2014    United States    318000000    78.9    51800    41.2\n",
      "2015    United States    320000000    78.8    52800    41.3\n",
      "2016    United States    322000000    78.8    53300    41.4\n",
      "2017    United States    324000000    79.0    54200    41.5\n",
      "2018    United States    327000000    79.1    54900    41.5\n"
     ]
    }
   ],
   "source": [
    "print(\"Year    Country         Population    LExp    pcGDP    Gini\")\n",
    "print(\"-----------------------------------------------------------\")\n",
    "\n",
    "\n",
    "for x in range(len(country)):\n",
    "    if country[x] == 'United States' and year[x] >= 1999:\n",
    "         print(f'{year[x]:4}    {country[x]:15} {population[x]:10}    {life_exp[x]:4}    {pcgdp[x]:5}    {gini[x]:4}')\n",
    "        "
   ]
  },
  {
   "cell_type": "markdown",
   "id": "9015cf00",
   "metadata": {},
   "source": [
    "# Part 2: Selecting the 2018 Data"
   ]
  },
  {
   "cell_type": "code",
   "execution_count": 5,
   "id": "98ea6219",
   "metadata": {},
   "outputs": [],
   "source": [
    "country_2018 = []\n",
    "population_2018 = []\n",
    "continent_2018 = []\n",
    "life_exp_2018 = []\n",
    "pcgdp_2018 = []\n",
    "gini_2018 = []\n",
    "\n",
    "for x in range(len(year)):\n",
    "    if year[x] == 2018: \n",
    "        country_2018.append(country[x])\n",
    "        population_2018.append(population[x])\n",
    "        continent_2018.append(continent[x])\n",
    "        life_exp_2018.append(life_exp[x])\n",
    "        pcgdp_2018.append(pcgdp[x])\n",
    "        gini_2018.append(gini[x])        "
   ]
  },
  {
   "cell_type": "code",
   "execution_count": 6,
   "id": "7e773985",
   "metadata": {},
   "outputs": [
    {
     "name": "stdout",
     "output_type": "stream",
     "text": [
      "The global population in 2018 was 7595200200.\n"
     ]
    }
   ],
   "source": [
    "global_population_2018 = sum(population_2018)\n",
    "\n",
    "print(f\"The global population in 2018 was {global_population_2018}.\")"
   ]
  },
  {
   "cell_type": "markdown",
   "id": "32879c06",
   "metadata": {},
   "source": [
    "# Part 3: Identifying Countries with Largest and Smallest Populations\n",
    "We will display the top 10 most populated and the bottom 10 least populated countries of 2018.\n"
   ]
  },
  {
   "cell_type": "code",
   "execution_count": 7,
   "id": "8f9281f2",
   "metadata": {},
   "outputs": [
    {
     "name": "stdout",
     "output_type": "stream",
     "text": [
      "Countries with Largest Populations in 2018\n",
      "------------------------------------------------------\n",
      "The population of Bangladesh in 2018 was 166,000,000.\n",
      "The population of Brazil in 2018 was 211,000,000.\n",
      "The population of China in 2018 was 1,420,000,000.\n",
      "The population of India in 2018 was 1,350,000,000.\n",
      "The population of Indonesia in 2018 was 267,000,000.\n",
      "The population of Mexico in 2018 was 131,000,000.\n",
      "The population of Nigeria in 2018 was 196,000,000.\n",
      "The population of Pakistan in 2018 was 201,000,000.\n",
      "The population of Russia in 2018 was 144,000,000.\n",
      "The population of United States in 2018 was 327,000,000.\n"
     ]
    }
   ],
   "source": [
    "sorted_pop_18 = sorted(population_2018)\n",
    "\n",
    "tenth_lrg_pop = sorted_pop_18[-10]\n",
    "\n",
    "print(\"Countries with Largest Populations in 2018\")\n",
    "print(\"------------------------------------------------------\")\n",
    "\n",
    "for x in range(len(population_2018)):\n",
    "    if population_2018[x] >= tenth_lrg_pop:\n",
    "        print(f\"The population of {country_2018[x]} in 2018 was {population_2018[x]:,}.\")\n"
   ]
  },
  {
   "cell_type": "code",
   "execution_count": 8,
   "id": "f1005e7f",
   "metadata": {},
   "outputs": [
    {
     "name": "stdout",
     "output_type": "stream",
     "text": [
      "Countries with Smallest Populations in 2018\n",
      "------------------------------------------------------\n",
      "The population of Antigua and Barbuda in 2018 was 103,000.\n",
      "The population of Grenada in 2018 was 108,000.\n",
      "The population of Kiribati in 2018 was 118,000.\n",
      "The population of Micronesia, Fed. Sts. in 2018 was 106,000.\n",
      "The population of Samoa in 2018 was 198,000.\n",
      "The population of Sao Tome and Principe in 2018 was 209,000.\n",
      "The population of Seychelles in 2018 was 95,200.\n",
      "The population of St. Lucia in 2018 was 180,000.\n",
      "The population of St. Vincent and the Grenadines in 2018 was 110,000.\n",
      "The population of Tonga in 2018 was 109,000.\n"
     ]
    }
   ],
   "source": [
    "sorted_pop_18 = sorted(population_2018)\n",
    "\n",
    "tenth_sml_pop = sorted_pop_18[9]\n",
    "\n",
    "print(\"Countries with Smallest Populations in 2018\")\n",
    "print(\"------------------------------------------------------\")\n",
    "\n",
    "for x in range(len(population_2018)):\n",
    "    if population_2018[x] <= tenth_sml_pop:\n",
    "        print(f\"The population of {country_2018[x]} in 2018 was {population_2018[x]:,}.\")\n"
   ]
  },
  {
   "cell_type": "markdown",
   "id": "4fb80c3f-cc07-4cdd-ad25-fe3f977448f7",
   "metadata": {},
   "source": [
    "# Part 4: Identifying Countries with Highest and Lowest Life Expectancies\n",
    "\n",
    "In this part of the project we will display a list of the countries with the highest life expectancies in 2018, as well as a list of \n",
    "countries with the lowest life expectancies in 2018.\r"
   ]
  },
  {
   "cell_type": "code",
   "execution_count": 9,
   "id": "5ee9ce9c-4bbb-4fd8-bd41-e82b29d83f16",
   "metadata": {},
   "outputs": [
    {
     "name": "stdout",
     "output_type": "stream",
     "text": [
      "Countries with Lowest Life Expectancy in 2018\n",
      "------------------------------------------------------\n",
      "The life expectancy of Australia in 2018 was 82.9.\n",
      "The life expectancy of France in 2018 was 82.6.\n",
      "The life expectancy of Iceland in 2018 was 82.6.\n",
      "The life expectancy of Israel in 2018 was 82.4.\n",
      "The life expectancy of Italy in 2018 was 82.6.\n",
      "The life expectancy of Japan in 2018 was 84.2.\n",
      "The life expectancy of Luxembourg in 2018 was 82.4.\n",
      "The life expectancy of Norway in 2018 was 82.4.\n",
      "The life expectancy of Singapore in 2018 was 84.0.\n",
      "The life expectancy of Spain in 2018 was 83.2.\n",
      "The life expectancy of Sweden in 2018 was 82.4.\n",
      "The life expectancy of Switzerland in 2018 was 83.5.\n"
     ]
    }
   ],
   "source": [
    "sorted_life_18 = sorted(life_exp_2018)\n",
    "\n",
    "tenth_big_life = sorted_life_18[-10]\n",
    "\n",
    "print(\"Countries with Lowest Life Expectancy in 2018\")\n",
    "print(\"------------------------------------------------------\")\n",
    "\n",
    "for x in range(len(life_exp_2018)):\n",
    "    if life_exp_2018[x] >= tenth_big_life:\n",
    "        print(f\"The life expectancy of {country_2018[x]} in 2018 was {life_exp_2018[x]:,}.\")"
   ]
  },
  {
   "cell_type": "code",
   "execution_count": 10,
   "id": "086e19d2-5402-4d2a-9a42-753c9e735b75",
   "metadata": {},
   "outputs": [
    {
     "name": "stdout",
     "output_type": "stream",
     "text": [
      "Countries with Lowest Life Expectancy in 2018\n",
      "------------------------------------------------------\n",
      "The life expectancy of Afghanistan in 2018 was 58.7.\n",
      "The life expectancy of Central African Republic in 2018 was 51.6.\n",
      "The life expectancy of Chad in 2018 was 60.5.\n",
      "The life expectancy of Guinea-Bissau in 2018 was 59.7.\n",
      "The life expectancy of Lesotho in 2018 was 51.1.\n",
      "The life expectancy of Sierra Leone in 2018 was 60.0.\n",
      "The life expectancy of Somalia in 2018 was 58.0.\n",
      "The life expectancy of Swaziland in 2018 was 58.6.\n",
      "The life expectancy of Zambia in 2018 was 59.5.\n",
      "The life expectancy of Zimbabwe in 2018 was 60.2.\n"
     ]
    }
   ],
   "source": [
    "sorted_life_18 = sorted(life_exp_2018)\n",
    "\n",
    "tenth_sml_life = sorted_life_18[9]\n",
    "\n",
    "print(\"Countries with Lowest Life Expectancy in 2018\")\n",
    "print(\"------------------------------------------------------\")\n",
    "\n",
    "for x in range(len(life_exp_2018)):\n",
    "    if life_exp_2018[x] <= tenth_sml_life:\n",
    "        print(f\"The life expectancy of {country_2018[x]} in 2018 was {life_exp_2018[x]:,}.\")"
   ]
  },
  {
   "cell_type": "markdown",
   "id": "eee34380-edeb-4eac-9344-75536bd87393",
   "metadata": {},
   "source": [
    "# Part 5: Calculating GDP by Country\r",
    "In this part of the project I will create a list that contains the GDP for each country in 2018, as well as the total GDP of the world as a whole."
   ]
  },
  {
   "cell_type": "code",
   "execution_count": 11,
   "id": "e3b34e65-0264-48fc-b2ef-443d8e213874",
   "metadata": {},
   "outputs": [
    {
     "name": "stdout",
     "output_type": "stream",
     "text": [
      "The total global GDP in 2018 was $118,225,647,770,000.\n"
     ]
    }
   ],
   "source": [
    "gdp_2018 = []\n",
    "\n",
    "for x in range(len(pcgdp_2018)):\n",
    "    gdp_2018.append(pcgdp_2018[x] * population_2018[x])\n",
    "\n",
    "print(f\"The total global GDP in 2018 was ${sum(gdp_2018):,}.\")"
   ]
  },
  {
   "cell_type": "code",
   "execution_count": 12,
   "id": "f3c0a2d8-3c7c-4c90-b360-5db8cf7230d5",
   "metadata": {},
   "outputs": [
    {
     "name": "stdout",
     "output_type": "stream",
     "text": [
      "The country with the highest GDP in 2018 was China with a GDP of $22,720,000,000,000.\n",
      "The country with the lowest GDP in 2018 was Kiribati with a GDP of $223,020,000.\n"
     ]
    }
   ],
   "source": [
    "highest_gdp = max(gdp_2018)\n",
    "lowest_gdp = min(gdp_2018)\n",
    "\n",
    "highest_gdp_country = country_2018[gdp_2018.index(highest_gdp)]\n",
    "lowest_gdp_country = country_2018[gdp_2018.index(lowest_gdp)]\n",
    "\n",
    "print(f\"The country with the highest GDP in 2018 was {highest_gdp_country} with a GDP of ${highest_gdp:,}.\")\n",
    "print(f\"The country with the lowest GDP in 2018 was {lowest_gdp_country} with a GDP of ${lowest_gdp:,}.\")"
   ]
  },
  {
   "cell_type": "markdown",
   "id": "630282b1-f8c3-45ae-9115-fdd1a0f61539",
   "metadata": {},
   "source": [
    "# Part 6: Grouping by Continent\n",
    "\n",
    "The countries in this dataset are grouped into four continental regions: africa, americas, asia, and europe. In this part \n",
    "of the project,we will  calculate the total population, per capita GDP, and life expectancy for each of these\r\n",
    "regions in 2018."
   ]
  },
  {
   "cell_type": "code",
   "execution_count": 13,
   "id": "3f70fd8d-44db-48e2-893b-0662916533e1",
   "metadata": {},
   "outputs": [
    {
     "name": "stdout",
     "output_type": "stream",
     "text": [
      "Continent     Population      pcGDP   Life Exp\n",
      "----------------------------------------------\n",
      "Africa     1,287,150,200      4,700       65.9\n",
      "Americas   1,010,978,000     28,708       77.5\n",
      "Asia       4,455,113,000     12,705       73.2\n",
      "Europe       841,959,000     31,534       78.4\n"
     ]
    }
   ],
   "source": [
    "continent_names = ['africa', 'americas', 'asia', 'europe']\n",
    "\n",
    "pcgdp_2018_by_continent = []\n",
    "pop_2018_by_continent = []\n",
    "life_exp_2018_by_continent = []\n",
    "\n",
    "for continent in continent_names:\n",
    "    temp_life_exp = 0 \n",
    "    temp_pop = 0\n",
    "    temp_gdp = 0\n",
    "    \n",
    "    for i in range(len(country_2018)):\n",
    "        if continent_2018[i] == continent:\n",
    "            temp_pop += population_2018[i]\n",
    "            temp_gdp += pcgdp_2018[i] * population_2018[i]\n",
    "            temp_life_exp += life_exp_2018[i] * population_2018[i] \\\n",
    "            \n",
    "    if temp_pop > 0:\n",
    "        temp_gdp = round(temp_gdp / temp_pop) \n",
    "        temp_life_exp = round(temp_life_exp / temp_pop, 1)\n",
    "\n",
    "    pop_2018_by_continent.append(temp_pop)\n",
    "    pcgdp_2018_by_continent.append(temp_gdp)\n",
    "    life_exp_2018_by_continent.append(temp_life_exp)\n",
    "\n",
    "print(f\"{'Continent':<10} {'Population':>13} {'pcGDP':>10} {'Life Exp':>10}\")\n",
    "print(\"----------------------------------------------\")\n",
    "for i in range(len(continent_names)):\n",
    "    print(f\"{continent_names[i].capitalize():<10} {pop_2018_by_continent[i]:>13,} {pcgdp_2018_by_continent[i]:>10,} {life_exp_2018_by_continent[i]:>10}\")\n",
    "    \n",
    "        \n",
    "            \n",
    "        \n",
    "    \n",
    "\n"
   ]
  }
 ],
 "metadata": {
  "kernelspec": {
   "display_name": "Python 3 (ipykernel)",
   "language": "python",
   "name": "python3"
  },
  "language_info": {
   "codemirror_mode": {
    "name": "ipython",
    "version": 3
   },
   "file_extension": ".py",
   "mimetype": "text/x-python",
   "name": "python",
   "nbconvert_exporter": "python",
   "pygments_lexer": "ipython3",
   "version": "3.12.4"
  }
 },
 "nbformat": 4,
 "nbformat_minor": 5
}
